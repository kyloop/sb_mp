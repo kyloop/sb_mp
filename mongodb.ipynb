{
 "cells": [
  {
   "cell_type": "markdown",
   "metadata": {},
   "source": [
    "### MongoDB Demo"
   ]
  },
  {
   "cell_type": "markdown",
   "metadata": {},
   "source": [
    "### 1. Need to start mongodb by entering in Shell: brew services start mongodb"
   ]
  },
  {
   "cell_type": "code",
   "execution_count": 1,
   "metadata": {},
   "outputs": [],
   "source": [
    "from pymongo import MongoClient\n",
    "client = MongoClient()"
   ]
  },
  {
   "cell_type": "code",
   "execution_count": 2,
   "metadata": {},
   "outputs": [],
   "source": [
    "client = MongoClient('localhost', 27017)"
   ]
  },
  {
   "cell_type": "code",
   "execution_count": 3,
   "metadata": {},
   "outputs": [
    {
     "name": "stdout",
     "output_type": "stream",
     "text": [
      "Database(MongoClient(host=['localhost:27017'], document_class=dict, tz_aware=False, connect=True), 'test_DB')\n"
     ]
    }
   ],
   "source": [
    "db = client[\"test_DB\"]\n",
    "print(db)"
   ]
  },
  {
   "cell_type": "markdown",
   "metadata": {},
   "source": [
    "### 2.Generate first Dict Document"
   ]
  },
  {
   "cell_type": "code",
   "execution_count": 4,
   "metadata": {},
   "outputs": [],
   "source": [
    "import datetime\n",
    "\n",
    "post1 = {\"author\": \"Mike\",\n",
    "        \"text\": \"My first blog post!\",\n",
    "        \"tags\": [\"mongodb\", \"python\", \"pymongo\"],\n",
    "        \"date\": datetime.datetime.utcnow()}\n",
    "\n",
    "post2 = {\"author\": \"John\",\n",
    "        \"text\": \"My second blog post!\",\n",
    "        \"tags\": [\"mongodb\", \"python\", \"pymongo\"],\n",
    "        \"date\": datetime.datetime.utcnow()}\n",
    "\n",
    "post3 = {\"author\": \"Mary\",\n",
    "        \"text\": \"My first blog post!\",\n",
    "        \"tags\": [\"mongodb\", \"python\", \"pymongo\"],\n",
    "        \"date\": datetime.datetime.utcnow()}\n",
    "\n",
    "post4 = {\"author\": \"Joe\",\n",
    "        \"text\": \"My second blog post!\",\n",
    "        \"tags\": [\"mongodb\", \"python\", \"pymongo\"],\n",
    "        \"date\": datetime.datetime.utcnow()}\n"
   ]
  },
  {
   "cell_type": "markdown",
   "metadata": {},
   "source": [
    "### 3.Insert the First Dict to DB"
   ]
  },
  {
   "cell_type": "code",
   "execution_count": 5,
   "metadata": {},
   "outputs": [
    {
     "name": "stdout",
     "output_type": "stream",
     "text": [
      "5cca3603531cb6d75caa4a61\n",
      "5cca3603531cb6d75caa4a62\n"
     ]
    },
    {
     "data": {
      "text/plain": [
       "['doc2', 'doc1']"
      ]
     },
     "execution_count": 5,
     "metadata": {},
     "output_type": "execute_result"
    }
   ],
   "source": [
    "doc1=db.doc1\n",
    "\n",
    "#db.insert_one(post1)\n",
    "post_id = doc1.insert_one(post1).inserted_id\n",
    "print(post_id)\n",
    "\n",
    "post_id = doc1.insert_one(post2).inserted_id\n",
    "print(post_id)\n",
    "\n",
    "db.list_collection_names()"
   ]
  },
  {
   "cell_type": "code",
   "execution_count": 6,
   "metadata": {},
   "outputs": [
    {
     "name": "stdout",
     "output_type": "stream",
     "text": [
      "5cca3603531cb6d75caa4a63\n",
      "5cca3603531cb6d75caa4a64\n"
     ]
    },
    {
     "data": {
      "text/plain": [
       "['doc2', 'doc1']"
      ]
     },
     "execution_count": 6,
     "metadata": {},
     "output_type": "execute_result"
    }
   ],
   "source": [
    "doc2=db.doc2\n",
    "\n",
    "#db.insert_one(post1)\n",
    "post_id = doc2.insert_one(post3).inserted_id\n",
    "print(post_id)\n",
    "\n",
    "post_id = doc2.insert_one(post4).inserted_id\n",
    "print(post_id)\n",
    "\n",
    "db.list_collection_names()"
   ]
  },
  {
   "cell_type": "markdown",
   "metadata": {},
   "source": [
    "### Extracting One Instance from different sub-database"
   ]
  },
  {
   "cell_type": "code",
   "execution_count": 7,
   "metadata": {},
   "outputs": [
    {
     "name": "stdout",
     "output_type": "stream",
     "text": [
      "{'_id': ObjectId('5cc900072c447a0a41cdda68'), 'author': 'Mike', 'text': 'My first blog post!', 'tags': ['mongodb', 'python', 'pymongo'], 'date': datetime.datetime(2019, 5, 1, 2, 10, 15, 178000)}\n",
      "{'_id': ObjectId('5cc920ecd7639d4c25076b15'), 'author': 'Mary', 'text': 'My first blog post!', 'tags': ['mongodb', 'python', 'pymongo'], 'date': datetime.datetime(2019, 5, 1, 4, 30, 28, 770000)}\n"
     ]
    }
   ],
   "source": [
    "print(doc1.find_one())\n",
    "print(doc2.find_one())"
   ]
  },
  {
   "cell_type": "code",
   "execution_count": 8,
   "metadata": {},
   "outputs": [
    {
     "name": "stdout",
     "output_type": "stream",
     "text": [
      "{'_id': ObjectId('5cc900072c447a0a41cdda68'),\n",
      " 'author': 'Mike',\n",
      " 'date': datetime.datetime(2019, 5, 1, 2, 10, 15, 178000),\n",
      " 'tags': ['mongodb', 'python', 'pymongo'],\n",
      " 'text': 'My first blog post!'}\n",
      "{'_id': ObjectId('5cc920ecd7639d4c25076b15'),\n",
      " 'author': 'Mary',\n",
      " 'date': datetime.datetime(2019, 5, 1, 4, 30, 28, 770000),\n",
      " 'tags': ['mongodb', 'python', 'pymongo'],\n",
      " 'text': 'My first blog post!'}\n"
     ]
    }
   ],
   "source": [
    "import pprint\n",
    "pprint.pprint(doc1.find_one())\n",
    "pprint.pprint(doc2.find_one())"
   ]
  },
  {
   "cell_type": "code",
   "execution_count": 9,
   "metadata": {},
   "outputs": [
    {
     "name": "stdout",
     "output_type": "stream",
     "text": [
      "{'_id': ObjectId('5cc920d116696cc2e5359171'),\n",
      " 'author': 'Mary',\n",
      " 'date': datetime.datetime(2019, 5, 1, 4, 29, 53, 875000),\n",
      " 'tags': ['mongodb', 'python', 'pymongo'],\n",
      " 'text': 'My first blog post!'}\n"
     ]
    }
   ],
   "source": [
    "#Query by \"author\"\n",
    "pprint.pprint(doc1.find_one({\"author\":\"Mary\"}))"
   ]
  },
  {
   "cell_type": "code",
   "execution_count": 10,
   "metadata": {},
   "outputs": [
    {
     "data": {
      "text/plain": [
       "{'_id': ObjectId('5cca3603531cb6d75caa4a64'),\n",
       " 'author': 'Joe',\n",
       " 'date': datetime.datetime(2019, 5, 2, 0, 12, 50, 978000),\n",
       " 'tags': ['mongodb', 'python', 'pymongo'],\n",
       " 'text': 'My second blog post!'}"
      ]
     },
     "execution_count": 10,
     "metadata": {},
     "output_type": "execute_result"
    }
   ],
   "source": [
    "#Query by instance id\n",
    "doc2.find_one({'_id': post_id })"
   ]
  },
  {
   "cell_type": "code",
   "execution_count": 11,
   "metadata": {},
   "outputs": [],
   "source": [
    "from bson.objectid import ObjectId\n",
    "\n",
    "# The web framework gets post_id from the URL and passes it as a string\n",
    "def get(post_id):\n",
    "    # Convert from string to ObjectId:\n",
    "    document = doc2.find_one({'_id': ObjectId(post_id)})\n",
    "    \n",
    "    if document:print(document)\n",
    "    else: print(None)"
   ]
  },
  {
   "cell_type": "code",
   "execution_count": 12,
   "metadata": {},
   "outputs": [
    {
     "name": "stdout",
     "output_type": "stream",
     "text": [
      "{'_id': ObjectId('5cca3603531cb6d75caa4a64'), 'author': 'Joe', 'text': 'My second blog post!', 'tags': ['mongodb', 'python', 'pymongo'], 'date': datetime.datetime(2019, 5, 2, 0, 12, 50, 978000)}\n"
     ]
    }
   ],
   "source": [
    "get(str(post_id))\n",
    "#doc2.find_one({\"_id\":ObjectId(str(post_id))})"
   ]
  },
  {
   "cell_type": "code",
   "execution_count": null,
   "metadata": {},
   "outputs": [],
   "source": []
  }
 ],
 "metadata": {
  "kernelspec": {
   "display_name": "Python 3",
   "language": "python",
   "name": "python3"
  },
  "language_info": {
   "codemirror_mode": {
    "name": "ipython",
    "version": 3
   },
   "file_extension": ".py",
   "mimetype": "text/x-python",
   "name": "python",
   "nbconvert_exporter": "python",
   "pygments_lexer": "ipython3",
   "version": "3.6.7"
  }
 },
 "nbformat": 4,
 "nbformat_minor": 2
}
