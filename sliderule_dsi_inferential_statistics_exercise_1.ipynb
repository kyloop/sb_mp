{
 "cells": [
  {
   "cell_type": "markdown",
   "metadata": {},
   "source": [
    "# What is the True Normal Human Body Temperature? \n",
    "\n",
    "#### Background\n",
    "\n",
    "The mean normal body temperature was held to be 37$^{\\circ}$C or 98.6$^{\\circ}$F for more than 120 years since it was first conceptualized and reported by Carl Wunderlich in a famous 1868 book. But, is this value statistically correct?"
   ]
  },
  {
   "cell_type": "markdown",
   "metadata": {},
   "source": [
    "<h3>Exercises</h3>\n",
    "\n",
    "<p>In this exercise, you will analyze a dataset of human body temperatures and employ the concepts of hypothesis testing, confidence intervals, and statistical significance.</p>\n",
    "\n",
    "<p>Answer the following questions <b>in this notebook below and submit to your Github account</b>.</p> \n",
    "\n",
    "<ol>\n",
    "<li>  Is the distribution of body temperatures normal? \n",
    "    <ul>\n",
    "    <li> Although this is not a requirement for the Central Limit Theorem to hold (read the introduction on Wikipedia's page about the CLT carefully: https://en.wikipedia.org/wiki/Central_limit_theorem), it gives us some peace of mind that the population may also be normally distributed if we assume that this sample is representative of the population.\n",
    "    <li> Think about the way you're going to check for the normality of the distribution. Graphical methods are usually used first, but there are also other ways: https://en.wikipedia.org/wiki/Normality_test\n",
    "    </ul>\n",
    "<li>  Is the sample size large? Are the observations independent?\n",
    "    <ul>\n",
    "    <li> Remember that this is a condition for the Central Limit Theorem, and hence the statistical tests we are using, to apply.\n",
    "    </ul>\n",
    "<li>  Is the true population mean really 98.6 degrees F?\n",
    "    <ul>\n",
    "    <li> First, try a bootstrap hypothesis test.\n",
    "    <li> Now, let's try frequentist statistical testing. Would you use a one-sample or two-sample test? Why?\n",
    "    <li> In this situation, is it appropriate to use the $t$ or $z$ statistic? \n",
    "    <li> Now try using the other test. How is the result be different? Why?\n",
    "    </ul>\n",
    "<li>  Draw a small sample of size 10 from the data and repeat both frequentist tests. \n",
    "    <ul>\n",
    "    <li> Which one is the correct one to use? \n",
    "    <li> What do you notice? What does this tell you about the difference in application of the $t$ and $z$ statistic?\n",
    "    </ul>\n",
    "<li>  At what temperature should we consider someone's temperature to be \"abnormal\"?\n",
    "    <ul>\n",
    "    <li> As in the previous example, try calculating everything using the boostrap approach, as well as the frequentist approach.\n",
    "    <li> Start by computing the margin of error and confidence interval. When calculating the confidence interval, keep in mind that you should use the appropriate formula for one draw, and not N draws.\n",
    "    </ul>\n",
    "<li>  Is there a significant difference between males and females in normal temperature?\n",
    "    <ul>\n",
    "    <li> What testing approach did you use and why?\n",
    "    <li> Write a story with your conclusion in the context of the original problem.\n",
    "    </ul>\n",
    "</ol>\n",
    "\n",
    "You can include written notes in notebook cells using Markdown: \n",
    "   - In the control panel at the top, choose Cell > Cell Type > Markdown\n",
    "   - Markdown syntax: http://nestacms.com/docs/creating-content/markdown-cheat-sheet\n",
    "\n",
    "#### Resources\n",
    "\n",
    "+ Information and data sources: http://www.amstat.org/publications/jse/datasets/normtemp.txt, http://www.amstat.org/publications/jse/jse_data_archive.htm\n",
    "+ Markdown syntax: http://nestacms.com/docs/creating-content/markdown-cheat-sheet\n",
    "\n",
    "****"
   ]
  },
  {
   "cell_type": "code",
   "execution_count": 1,
   "metadata": {},
   "outputs": [
    {
     "name": "stdout",
     "output_type": "stream",
     "text": [
      "(130, 3)\n"
     ]
    },
    {
     "data": {
      "text/html": [
       "<div>\n",
       "<style scoped>\n",
       "    .dataframe tbody tr th:only-of-type {\n",
       "        vertical-align: middle;\n",
       "    }\n",
       "\n",
       "    .dataframe tbody tr th {\n",
       "        vertical-align: top;\n",
       "    }\n",
       "\n",
       "    .dataframe thead th {\n",
       "        text-align: right;\n",
       "    }\n",
       "</style>\n",
       "<table border=\"1\" class=\"dataframe\">\n",
       "  <thead>\n",
       "    <tr style=\"text-align: right;\">\n",
       "      <th></th>\n",
       "      <th>temperature</th>\n",
       "      <th>gender</th>\n",
       "      <th>heart_rate</th>\n",
       "    </tr>\n",
       "  </thead>\n",
       "  <tbody>\n",
       "    <tr>\n",
       "      <th>0</th>\n",
       "      <td>99.3</td>\n",
       "      <td>F</td>\n",
       "      <td>68.0</td>\n",
       "    </tr>\n",
       "    <tr>\n",
       "      <th>1</th>\n",
       "      <td>98.4</td>\n",
       "      <td>F</td>\n",
       "      <td>81.0</td>\n",
       "    </tr>\n",
       "    <tr>\n",
       "      <th>2</th>\n",
       "      <td>97.8</td>\n",
       "      <td>M</td>\n",
       "      <td>73.0</td>\n",
       "    </tr>\n",
       "  </tbody>\n",
       "</table>\n",
       "</div>"
      ],
      "text/plain": [
       "   temperature gender  heart_rate\n",
       "0         99.3      F        68.0\n",
       "1         98.4      F        81.0\n",
       "2         97.8      M        73.0"
      ]
     },
     "execution_count": 1,
     "metadata": {},
     "output_type": "execute_result"
    }
   ],
   "source": [
    "import pandas as pd\n",
    "import numpy as np\n",
    "import seaborn as sns\n",
    "import matplotlib.pyplot as plt\n",
    "from scipy import stats\n",
    "\n",
    "df = pd.read_csv('./data/human_body_temperature.csv')\n",
    "print(df.shape)\n",
    "df.head(3)"
   ]
  },
  {
   "cell_type": "markdown",
   "metadata": {
    "collapsed": true
   },
   "source": [
    "### 1.Is the distribution of body temperatures normal?\n",
    "\n",
    "Ans: Based on the following distribution plot, the body temperatures are very closed to the Normally distributed (Line in Red Color) by comparing the Normally distributed fitting curve (Line in Black Color). I would propose to collect more data to determine the distribution of body temperatures."
   ]
  },
  {
   "cell_type": "code",
   "execution_count": 3,
   "metadata": {},
   "outputs": [
    {
     "data": {
      "image/png": "[encoded data removed]",
      "text/plain": [
       "<matplotlib.figure.Figure at 0x1a16cff208>"
      ]
     },
     "metadata": {},
     "output_type": "display_data"
    }
   ],
   "source": [
    "from scipy.stats import norm\n",
    "ax = sns.distplot(df.temperature,  color=\"r\", fit=norm);\n",
    "ax.set_title(\"Body Temperature Histogram\")\n",
    "ax.set_ylabel(\"Density\")\n",
    "ax.set_xlabel(\"Temperature\")\n",
    "plt.show()"
   ]
  },
  {
   "cell_type": "markdown",
   "metadata": {},
   "source": [
    "### 2.Is the sample size large? Are the observations independent?\n",
    "\n",
    "* The sample size is not large, but it is large enough make inference to to outcome. \n",
    "* Yes, the observations are indepenent because one obersvation's temperature does not affect other observations' heart rate"
   ]
  },
  {
   "cell_type": "markdown",
   "metadata": {},
   "source": [
    "### 3.Is the true population mean really 98.6 degrees F?\n",
    "\n",
    "Running **Bootstrap Hypothesis** Testing from the Sample Data to find out if we can agree on the True population mean 98.6F\n",
    "\n",
    "Step 1. Set Hypothesis (mu = population mean (98.6F), Xs = sample mean)\n",
    "    - Null Hypothesis H0:  mu = Xs\n",
    "    - Alt. Hypothesis Ha: mu <> Xs\n",
    "    \n",
    "Step 2. Set Significance level = 5%\n",
    "\n",
    "Step 3. Find out the test statistics by calculating the Sample Mean and Sample Standard Deviation\n",
    "\n",
    "Step 4. Find the observed value (P-value) of test statistic to see whether reject Null Hypothesis\n",
    "\n",
    "Ans: Based on the following Bootstrapping experiment result, we shall reject the Null Hypothesis (mu = Xs) because the 98.6F does not fall into the 5% confidence interval of this test. So that we have strong evidence to reject the Null Hypothesis. "
   ]
  },
  {
   "cell_type": "code",
   "execution_count": 107,
   "metadata": {},
   "outputs": [
    {
     "data": {
      "text/plain": [
       "2.0"
      ]
     },
     "execution_count": 107,
     "metadata": {},
     "output_type": "execute_result"
    }
   ],
   "source": [
    "np.sqrt(4)"
   ]
  },
  {
   "cell_type": "code",
   "execution_count": 109,
   "metadata": {},
   "outputs": [
    {
     "name": "stdout",
     "output_type": "stream",
     "text": [
      "98.2492307692\n",
      "Number of Samples per Trail (Degree of Freedom:): 130\n",
      "t-statistic (from table): 1.984\n",
      "Mean of Bootstrapped Samples: 98.2495606462\n",
      "Std of Bootstrapped Samples: 0.0641632084861\n",
      "Confidence Interval is 98.249 - 98.250\n"
     ]
    }
   ],
   "source": [
    "import random\n",
    "tempLst = np.array(list(df.temperature)) #Convert the temperature list to numpy array\n",
    "print(np.mean(tempLst))\n",
    "bLst=[]\n",
    "cnt=0\n",
    "while cnt < 100000:# Sampling 100000 times\n",
    "    #Calculate and Store the every Mean value of Sampling Trail\n",
    "    meanValue = np.mean(np.random.choice(tempLst, replace=True, size = len(tempLst)))\n",
    "    bLst.append(meanValue)\n",
    "    cnt+=1\n",
    "print(\"Number of Samples per Trail (Degree of Freedom:):\", len(tempLst))\n",
    "print(\"t-statistic (from table):\", 1.984)\n",
    "print(\"Mean of Bootstrapped Samples:\",np.mean(bLst))\n",
    "print(\"Std of Bootstrapped Samples:\",np.std(bLst))\n",
    "print(\"Confidence Interval is %0.3f - %0.3f\"%(np.mean(bLst)-(np.std(bLst) * 1.984/ np.sqrt(len(bLst))), np.mean(bLst)+(np.std(bLst) * 1.984 / np.sqrt(len(bLst)))))"
   ]
  },
  {
   "cell_type": "markdown",
   "metadata": {},
   "source": [
    "**frequentist statistical testing : One-Sample**\n",
    "\n",
    "Ans:\n",
    "Since we only have one set of data to test on a value, so that I propose to use one-sample test. In addition, the population standard deviation is not provided for this question, I would suggest to use the t-statistic to tackle this question\n",
    "\n",
    "According to the following caculation, we have evidence to reject the Null Hypothesis. 98.6F doesn't fall in the confidence Interval of this t-test. To further determining the True Mean, I would suggest to increase the number of samples (ONLY 130 data points provide)."
   ]
  },
  {
   "cell_type": "code",
   "execution_count": 117,
   "metadata": {},
   "outputs": [
    {
     "name": "stdout",
     "output_type": "stream",
     "text": [
      "Number of Samples per Trail (Degree of Freedom:): 130\n",
      "t-statistic (from table): 1.984\n",
      "Mean of Bootstrapped Samples: 98.2492307692\n",
      "Std of Bootstrapped Samples: 0.730357778905\n",
      "Confidence Interval is 98.122 - 98.376\n"
     ]
    }
   ],
   "source": [
    "tempLst = np.array(list(df.temperature)) #Convert the temperature list to numpy array\n",
    "print(\"Number of Samples per Trail (Degree of Freedom:):\", len(tempLst))\n",
    "print(\"t-statistic (from table):\", 1.984)\n",
    "print(\"Mean of Bootstrapped Samples:\",np.mean(tempLst))\n",
    "print(\"Std of Bootstrapped Samples:\",np.std(tempLst))\n",
    "print(\"Confidence Interval is %0.3f - %0.3f\"%(np.mean(tempLst)-(np.std(tempLst) * 1.984/ np.sqrt(len(tempLst))), np.mean(tempLst)+(np.std(tempLst) * 1.984 / np.sqrt(len(tempLst)))))"
   ]
  },
  {
   "cell_type": "markdown",
   "metadata": {},
   "source": [
    "### 4. Draw a small sample of size 10 from the data and repeat both frequentist tests.\n",
    "\n",
    "Ans:\n",
    "Comparing the result from part 3, the confidence interval is wider by taking only 10 samples. In this case, we still reject the Null Hypothesis. As mentioned, I propose to the sampling size for this test. I would notice that the z statistic would be used when the population standard deviation is known and t-statistic could be used when we have good sampling size."
   ]
  },
  {
   "cell_type": "code",
   "execution_count": 132,
   "metadata": {},
   "outputs": [
    {
     "name": "stdout",
     "output_type": "stream",
     "text": [
      "Number of Samples per Trail (Degree of Freedom:): 10\n",
      "t-statistic (from table): 2.262\n",
      "Mean of Bootstrapped Samples: 97.99\n",
      "Std of Bootstrapped Samples: 0.00168789810119\n",
      "Confidence Interval is 97.608 - 98.372\n"
     ]
    }
   ],
   "source": [
    "Lst10 = np.random.choice(tempLst, replace=True, size = 10)\n",
    "print(\"Number of Samples per Trail (Degree of Freedom:):\", len(Lst10))\n",
    "print(\"t-statistic (from table):\", 2.262)\n",
    "print(\"Mean of Bootstrapped Samples:\",np.mean(Lst10))\n",
    "print(\"Std of Bootstrapped Samples:\",np.std(Lst10)/ np.sqrt(len(bLst)))\n",
    "print(\"Confidence Interval is %0.3f - %0.3f\"%(np.mean(Lst10)-(np.std(Lst10) * 2.262/ np.sqrt(len(Lst10))), np.mean(Lst10)+(np.std(Lst10) * 2.262 / np.sqrt(len(Lst10)))))\n"
   ]
  },
  {
   "cell_type": "markdown",
   "metadata": {},
   "source": [
    "### 5. At what temperature should we consider someone's temperature to be \"abnormal\"?\n",
    "\n",
    "**Bootstrap Approach**\n",
    "\n",
    "Ans:\n",
    "Based on the following calculation, temperature outside the range of 98.249 - 98.252 would be considered as abnormal."
   ]
  },
  {
   "cell_type": "code",
   "execution_count": 146,
   "metadata": {},
   "outputs": [
    {
     "name": "stdout",
     "output_type": "stream",
     "text": [
      "98.2492307692\n",
      "Number of Samples per Trail (Degree of Freedom:): 130\n",
      "t-statistic (from table): 2.262\n",
      "Mean of Bootstrapped Samples: 98.2502216\n",
      "Std of Bootstrapped Samples: 0.000728020198164\n",
      "Margin of error:  0.00164678168825\n",
      "Confidence Interval is 98.249 - 98.252\n"
     ]
    }
   ],
   "source": [
    "tempLst = np.array(list(df.temperature)) #Convert the temperature list to numpy array\n",
    "print(np.mean(tempLst))\n",
    "bLst=[]\n",
    "cnt=0\n",
    "while cnt < 100000:# Sampling 100000 times\n",
    "    #Calculate and Store the every Mean value of Sampling Trail\n",
    "    meanValue = np.mean(np.random.choice(tempLst, replace=True, size = 10))\n",
    "    bLst.append(meanValue)\n",
    "    cnt+=1\n",
    "print(\"Number of Samples per Trail (Degree of Freedom:):\", len(tempLst))\n",
    "print(\"t-statistic (from table):\", 2.262)\n",
    "print(\"Mean of Bootstrapped Samples:\",np.mean(bLst))\n",
    "print(\"Std of Bootstrapped Samples:\",np.std(bLst) / np.sqrt(len(bLst)))\n",
    "print(\"Margin of error: \", np.std(bLst) * 2.262/ np.sqrt(len(bLst)))\n",
    "print(\"Confidence Interval is %0.3f - %0.3f\"%(np.mean(bLst)-(np.std(bLst) * 2.262/ np.sqrt(len(bLst))), np.mean(bLst)+(np.std(bLst) * 2.262 / np.sqrt(len(bLst)))))\n"
   ]
  },
  {
   "cell_type": "markdown",
   "metadata": {},
   "source": [
    "**frequentist statistical testing**\n",
    "\n",
    "Ans: Based on the following calculation, temperature outside the range of 97.884 - 98.756 would be considered as abnormal."
   ]
  },
  {
   "cell_type": "code",
   "execution_count": 143,
   "metadata": {},
   "outputs": [
    {
     "name": "stdout",
     "output_type": "stream",
     "text": [
      "Number of Samples per Trail (Degree of Freedom:): 10\n",
      "t-statistic (from table): 2.262\n",
      "Mean of Bootstrapped Samples: 98.32\n",
      "Std of Bootstrapped Samples: 0.19276929216\n",
      "margin of error:  0.436044138867\n",
      "Confidence Interval is 97.884 - 98.756\n"
     ]
    }
   ],
   "source": [
    "Lst10 = np.random.choice(tempLst, replace=True, size = 10)\n",
    "print(\"Number of Samples per Trail (Degree of Freedom:):\", len(Lst10))\n",
    "print(\"t-statistic (from table):\", 2.262)\n",
    "print(\"Mean of Bootstrapped Samples:\",np.mean(Lst10))\n",
    "print(\"Std of Bootstrapped Samples:\",np.std(Lst10)/ np.sqrt(len(Lst10)))\n",
    "print(\"Margin of error: \", np.std(Lst10) * 2.262/ np.sqrt(len(Lst10)))\n",
    "print(\"Confidence Interval is %0.3f - %0.3f\"%(np.mean(Lst10)-(np.std(Lst10) * 2.262/ np.sqrt(len(Lst10))), np.mean(Lst10)+(np.std(Lst10) * 2.262 / np.sqrt(len(Lst10)))))"
   ]
  },
  {
   "cell_type": "markdown",
   "metadata": {},
   "source": [
    "### 5. Is there a significant difference between males and females in normal temperature?\n",
    "\n",
    "**First of all, we have to set up the Hypothesis for this test:**\n",
    "\n",
    "- temp of male = tm\n",
    "- temp of female = tf\n",
    "\n",
    "**Null H0: tm = tf**\n",
    "\n",
    "**Alt Ha: tm <> tf**"
   ]
  },
  {
   "cell_type": "code",
   "execution_count": 188,
   "metadata": {},
   "outputs": [
    {
     "name": "stdout",
     "output_type": "stream",
     "text": [
      "Number of Samples: Male = 65, Female = 65\n"
     ]
    }
   ],
   "source": [
    "m_temp = np.array(list(df[\"temperature\"][df.gender == \"M\"]))\n",
    "f_temp = np.array(list(df[\"temperature\"][df.gender == \"F\"]))\n",
    "print(\"Number of Samples: Male = %d, Female = %d\" % (len(m_temp), len(f_temp)))"
   ]
  },
  {
   "cell_type": "code",
   "execution_count": 190,
   "metadata": {},
   "outputs": [
    {
     "name": "stdout",
     "output_type": "stream",
     "text": [
      "Mean of Temperature: Male= 98.105, Female = 98.394\n",
      "Std of Temperature: Male= 0.693, Female = 0.738\n",
      "Male Temperature: 95Percent C.I.: 97.936 - 98.273 \n",
      "Female Temperature: 95Percent C.I.: 98.201 - 98.573 \n"
     ]
    }
   ],
   "source": [
    "print(\"Mean of Temperature: Male= %0.3f, Female = %0.3f\"%(m_temp.mean(),f_temp.mean()))\n",
    "print(\"Std of Temperature: Male= %0.3f, Female = %0.3f\"%(m_temp.std(),f_temp.std()))\n",
    "print(\"Male Temperature: 95Percent C.I.: %0.3f - %0.3f \"%(m_temp.mean()-(1.96*m_temp.std()/np.sqrt(65)), m_temp.mean()+(1.96*m_temp.std()/np.sqrt(65))))\n",
    "print(\"Female Temperature: 95Percent C.I.: %0.3f - %0.3f \"%(f_temp.mean()-(1.96*f_temp.std()/np.sqrt(56)), f_temp.mean()+(1.96*f_temp.std()/np.sqrt(65))))\n"
   ]
  },
  {
   "cell_type": "markdown",
   "metadata": {},
   "source": [
    "** Based on the above, the mean and standard deviation of Male and Female Temperatures are differ from each other, so that we are going to conduct a 2-sample t-test to verify are significant difference from each other **"
   ]
  },
  {
   "cell_type": "code",
   "execution_count": 193,
   "metadata": {},
   "outputs": [
    {
     "name": "stdout",
     "output_type": "stream",
     "text": [
      "\n",
      "Testing Set: t_statistic is -2.285 and p-value is 0.023938\n"
     ]
    }
   ],
   "source": [
    "#Calculate the t-test statistics and p-value for testing set\n",
    "from scipy import stats\n",
    "t_stat, p_value = stats.ttest_ind(m_temp,f_temp,equal_var = False,)\n",
    "print(\"\")\n",
    "print(\"Testing Set: t_statistic is %0.3f and p-value is %0.6f\"% (t_stat, p_value))"
   ]
  },
  {
   "cell_type": "markdown",
   "metadata": {},
   "source": [
    "**According to the above , the p-value is less than 2.5% of 2 tail test which means that we have strong evidence to believe that we could reject the Null Hypothesis (tm = tf). In other words, the Male temperature is significantly different from the Female temperature**"
   ]
  }
 ],
 "metadata": {
  "kernelspec": {
   "display_name": "Python 3",
   "language": "python",
   "name": "python3"
  },
  "language_info": {
   "codemirror_mode": {
    "name": "ipython",
    "version": 3
   },
   "file_extension": ".py",
   "mimetype": "text/x-python",
   "name": "python",
   "nbconvert_exporter": "python",
   "pygments_lexer": "ipython3",
   "version": "3.6.4"
  }
 },
 "nbformat": 4,
 "nbformat_minor": 1
}
