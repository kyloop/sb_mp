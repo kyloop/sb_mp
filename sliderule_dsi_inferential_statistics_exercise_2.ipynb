{
 "cells": [
  {
   "cell_type": "markdown",
   "metadata": {
    "hideCode": false,
    "hideOutput": true,
    "hidePrompt": false
   },
   "source": [
    "# Examining Racial Discrimination in the US Job Market\n",
    "\n",
    "### Background\n",
    "Racial discrimination continues to be pervasive in cultures throughout the world. Researchers examined the level of racial discrimination in the United States labor market by randomly assigning identical résumés to black-sounding or white-sounding names and observing the impact on requests for interviews from employers.\n",
    "\n",
    "### Data\n",
    "In the dataset provided, each row represents a resume. The 'race' column has two values, 'b' and 'w', indicating black-sounding and white-sounding. The column 'call' has two values, 1 and 0, indicating whether the resume received a call from employers or not.\n",
    "\n",
    "Note that the 'b' and 'w' values in race are assigned randomly to the resumes when presented to the employer."
   ]
  },
  {
   "cell_type": "markdown",
   "metadata": {
    "hideCode": false,
    "hidePrompt": false
   },
   "source": [
    "\n",
    "### Exercises\n",
    "You will perform a statistical analysis to establish whether race has a significant impact on the rate of callbacks for resumes.\n",
    "\n",
    "Answer the following questions **in this notebook below and submit to your Github account**. \n",
    "\n",
    "   1. What test is appropriate for this problem? Does CLT apply?\n",
    "   2. What are the null and alternate hypotheses?\n",
    "   3. Compute margin of error, confidence interval, and p-value. Try using both the bootstrapping and the frequentist statistical approaches.\n",
    "   4. Write a story describing the statistical significance in the context or the original problem.\n",
    "   5. Does your analysis mean that race/name is the most important factor in callback success? Why or why not? If not, how would you amend your analysis?\n",
    "\n",
    "You can include written notes in notebook cells using Markdown: \n",
    "   - In the control panel at the top, choose Cell > Cell Type > Markdown\n",
    "   - Markdown syntax: http://nestacms.com/docs/creating-content/markdown-cheat-sheet\n",
    "\n",
    "\n",
    "#### Resources\n",
    "+ Experiment information and data source: http://www.povertyactionlab.org/evaluation/discrimination-job-market-united-states\n",
    "+ Scipy statistical methods: http://docs.scipy.org/doc/scipy/reference/stats.html \n",
    "+ Markdown syntax: http://nestacms.com/docs/creating-content/markdown-cheat-sheet\n",
    "+ Formulas for the Bernoulli distribution: https://en.wikipedia.org/wiki/Bernoulli_distribution\n",
    "</div>\n",
    "****"
   ]
  },
  {
   "cell_type": "code",
   "execution_count": 3,
   "metadata": {
    "hideCode": false,
    "hidePrompt": false
   },
   "outputs": [],
   "source": [
    "import pandas as pd\n",
    "import numpy as np\n",
    "from scipy import stats"
   ]
  },
  {
   "cell_type": "code",
   "execution_count": 4,
   "metadata": {
    "hideCode": false,
    "hidePrompt": false
   },
   "outputs": [],
   "source": [
    "data = pd.io.stata.read_stata('data/us_job_market_discrimination.dta')"
   ]
  },
  {
   "cell_type": "code",
   "execution_count": 5,
   "metadata": {
    "hideCode": false,
    "hidePrompt": false
   },
   "outputs": [
    {
     "data": {
      "text/html": [
       "<div>\n",
       "<style scoped>\n",
       "    .dataframe tbody tr th:only-of-type {\n",
       "        vertical-align: middle;\n",
       "    }\n",
       "\n",
       "    .dataframe tbody tr th {\n",
       "        vertical-align: top;\n",
       "    }\n",
       "\n",
       "    .dataframe thead th {\n",
       "        text-align: right;\n",
       "    }\n",
       "</style>\n",
       "<table border=\"1\" class=\"dataframe\">\n",
       "  <thead>\n",
       "    <tr style=\"text-align: right;\">\n",
       "      <th></th>\n",
       "      <th>id</th>\n",
       "      <th>ad</th>\n",
       "      <th>education</th>\n",
       "      <th>ofjobs</th>\n",
       "      <th>yearsexp</th>\n",
       "      <th>honors</th>\n",
       "      <th>volunteer</th>\n",
       "      <th>military</th>\n",
       "      <th>empholes</th>\n",
       "      <th>occupspecific</th>\n",
       "      <th>...</th>\n",
       "      <th>compreq</th>\n",
       "      <th>orgreq</th>\n",
       "      <th>manuf</th>\n",
       "      <th>transcom</th>\n",
       "      <th>bankreal</th>\n",
       "      <th>trade</th>\n",
       "      <th>busservice</th>\n",
       "      <th>othservice</th>\n",
       "      <th>missind</th>\n",
       "      <th>ownership</th>\n",
       "    </tr>\n",
       "  </thead>\n",
       "  <tbody>\n",
       "    <tr>\n",
       "      <th>0</th>\n",
       "      <td>b</td>\n",
       "      <td>1</td>\n",
       "      <td>4</td>\n",
       "      <td>2</td>\n",
       "      <td>6</td>\n",
       "      <td>0</td>\n",
       "      <td>0</td>\n",
       "      <td>0</td>\n",
       "      <td>1</td>\n",
       "      <td>17</td>\n",
       "      <td>...</td>\n",
       "      <td>1.0</td>\n",
       "      <td>0.0</td>\n",
       "      <td>1.0</td>\n",
       "      <td>0.0</td>\n",
       "      <td>0.0</td>\n",
       "      <td>0.0</td>\n",
       "      <td>0.0</td>\n",
       "      <td>0.0</td>\n",
       "      <td>0.0</td>\n",
       "      <td></td>\n",
       "    </tr>\n",
       "    <tr>\n",
       "      <th>1</th>\n",
       "      <td>b</td>\n",
       "      <td>1</td>\n",
       "      <td>3</td>\n",
       "      <td>3</td>\n",
       "      <td>6</td>\n",
       "      <td>0</td>\n",
       "      <td>1</td>\n",
       "      <td>1</td>\n",
       "      <td>0</td>\n",
       "      <td>316</td>\n",
       "      <td>...</td>\n",
       "      <td>1.0</td>\n",
       "      <td>0.0</td>\n",
       "      <td>1.0</td>\n",
       "      <td>0.0</td>\n",
       "      <td>0.0</td>\n",
       "      <td>0.0</td>\n",
       "      <td>0.0</td>\n",
       "      <td>0.0</td>\n",
       "      <td>0.0</td>\n",
       "      <td></td>\n",
       "    </tr>\n",
       "    <tr>\n",
       "      <th>2</th>\n",
       "      <td>b</td>\n",
       "      <td>1</td>\n",
       "      <td>4</td>\n",
       "      <td>1</td>\n",
       "      <td>6</td>\n",
       "      <td>0</td>\n",
       "      <td>0</td>\n",
       "      <td>0</td>\n",
       "      <td>0</td>\n",
       "      <td>19</td>\n",
       "      <td>...</td>\n",
       "      <td>1.0</td>\n",
       "      <td>0.0</td>\n",
       "      <td>1.0</td>\n",
       "      <td>0.0</td>\n",
       "      <td>0.0</td>\n",
       "      <td>0.0</td>\n",
       "      <td>0.0</td>\n",
       "      <td>0.0</td>\n",
       "      <td>0.0</td>\n",
       "      <td></td>\n",
       "    </tr>\n",
       "    <tr>\n",
       "      <th>3</th>\n",
       "      <td>b</td>\n",
       "      <td>1</td>\n",
       "      <td>3</td>\n",
       "      <td>4</td>\n",
       "      <td>6</td>\n",
       "      <td>0</td>\n",
       "      <td>1</td>\n",
       "      <td>0</td>\n",
       "      <td>1</td>\n",
       "      <td>313</td>\n",
       "      <td>...</td>\n",
       "      <td>1.0</td>\n",
       "      <td>0.0</td>\n",
       "      <td>1.0</td>\n",
       "      <td>0.0</td>\n",
       "      <td>0.0</td>\n",
       "      <td>0.0</td>\n",
       "      <td>0.0</td>\n",
       "      <td>0.0</td>\n",
       "      <td>0.0</td>\n",
       "      <td></td>\n",
       "    </tr>\n",
       "    <tr>\n",
       "      <th>4</th>\n",
       "      <td>b</td>\n",
       "      <td>1</td>\n",
       "      <td>3</td>\n",
       "      <td>3</td>\n",
       "      <td>22</td>\n",
       "      <td>0</td>\n",
       "      <td>0</td>\n",
       "      <td>0</td>\n",
       "      <td>0</td>\n",
       "      <td>313</td>\n",
       "      <td>...</td>\n",
       "      <td>1.0</td>\n",
       "      <td>1.0</td>\n",
       "      <td>0.0</td>\n",
       "      <td>0.0</td>\n",
       "      <td>0.0</td>\n",
       "      <td>0.0</td>\n",
       "      <td>0.0</td>\n",
       "      <td>1.0</td>\n",
       "      <td>0.0</td>\n",
       "      <td>Nonprofit</td>\n",
       "    </tr>\n",
       "  </tbody>\n",
       "</table>\n",
       "<p>5 rows × 65 columns</p>\n",
       "</div>"
      ],
      "text/plain": [
       "  id ad  education  ofjobs  yearsexp  honors  volunteer  military  empholes  \\\n",
       "0  b  1          4       2         6       0          0         0         1   \n",
       "1  b  1          3       3         6       0          1         1         0   \n",
       "2  b  1          4       1         6       0          0         0         0   \n",
       "3  b  1          3       4         6       0          1         0         1   \n",
       "4  b  1          3       3        22       0          0         0         0   \n",
       "\n",
       "   occupspecific    ...      compreq  orgreq  manuf  transcom  bankreal trade  \\\n",
       "0             17    ...          1.0     0.0    1.0       0.0       0.0   0.0   \n",
       "1            316    ...          1.0     0.0    1.0       0.0       0.0   0.0   \n",
       "2             19    ...          1.0     0.0    1.0       0.0       0.0   0.0   \n",
       "3            313    ...          1.0     0.0    1.0       0.0       0.0   0.0   \n",
       "4            313    ...          1.0     1.0    0.0       0.0       0.0   0.0   \n",
       "\n",
       "  busservice othservice  missind  ownership  \n",
       "0        0.0        0.0      0.0             \n",
       "1        0.0        0.0      0.0             \n",
       "2        0.0        0.0      0.0             \n",
       "3        0.0        0.0      0.0             \n",
       "4        0.0        1.0      0.0  Nonprofit  \n",
       "\n",
       "[5 rows x 65 columns]"
      ]
     },
     "execution_count": 5,
     "metadata": {},
     "output_type": "execute_result"
    }
   ],
   "source": [
    "data.head()"
   ]
  },
  {
   "cell_type": "markdown",
   "metadata": {
    "hideCode": false,
    "hidePrompt": false
   },
   "source": [
    "### Percentage of success of both races (w, b)"
   ]
  },
  {
   "cell_type": "code",
   "execution_count": 6,
   "metadata": {
    "hideCode": false,
    "hidePrompt": false
   },
   "outputs": [
    {
     "name": "stdout",
     "output_type": "stream",
     "text": [
      "Total w candidates 2435 and 235 received call from employer which is about ***9.65 percent***\n",
      "Total b candidates 2435 and 157 received call from employer which is about ***6.45 percent***\n"
     ]
    }
   ],
   "source": [
    "# number of callbacks for white-sounding names\n",
    "print(\"Total w candidates %d and %d received call from employer which is about ***%0.2f percent***\"\n",
    "      %(sum(data.race==\"w\"), sum(data[data.race=='w'].call),(sum(data[data.race=='w'].call)/sum(data.race==\"w\"))*100))\n",
    "# number of callbacks for black-sounding names\n",
    "print(\"Total b candidates %d and %d received call from employer which is about ***%0.2f percent***\"\n",
    "      %(sum(data.race==\"b\"), sum(data[data.race=='b'].call),(sum(data[data.race=='b'].call)/sum(data.race==\"b\"))*100))"
   ]
  },
  {
   "cell_type": "markdown",
   "metadata": {
    "collapsed": true,
    "hideCode": false,
    "hidePrompt": false
   },
   "source": [
    "### 1. What test is appropriate for this problem? Does CLT apply?\n",
    "\n",
    "We should carry out the hypothesis test to exam whether the call-back rate among the races (i.e. Black-sounding and White-sounding) are significantly different from each other. If so, then we can conclude which race has the considerably higher call-back rate. \n",
    "\n",
    "Yes, the Central Limit Therom has applied in this case. The success rate will pile up as the shape of Normal distribution if increasing the sampling size for a significant amount of sample population. "
   ]
  },
  {
   "cell_type": "markdown",
   "metadata": {
    "hideCode": false,
    "hidePrompt": false
   },
   "source": [
    "### 2. What are the null and alternate hypotheses?\n",
    "\n",
    "So that now we first set up our hypotheses\n",
    "    - Null Hypothesis H0:  pw = pb\n",
    "    - Alt. Hypothesis Ha: pw <> pb\n",
    "    \n",
    "where \n",
    "    - pw = callback success rate for race w\n",
    "    - pb = callback success rate for race b\n",
    "    \n",
    "According to the following experiment result with 10000 sampling, we are able to conclude to reject the Null hypotheses which is the success rate of group w and b are the same. The confidence interval of two groups are not overlapping which implies that the proportion of success rate is signficantly different from each other. In this case, we are also to conclude that the callback success rate of race w is signficiantly Higher than race b. "
   ]
  },
  {
   "cell_type": "markdown",
   "metadata": {
    "hideCode": false,
    "hidePrompt": false
   },
   "source": [
    "#### Now we perform **Bernoulli Bootstrapping** experiment on both races to find out the mean, std and C.I. "
   ]
  },
  {
   "cell_type": "code",
   "execution_count": 12,
   "metadata": {
    "hideCode": false,
    "hidePrompt": false
   },
   "outputs": [
    {
     "name": "stdout",
     "output_type": "stream",
     "text": [
      "Race w Sample Size: 10000\n",
      "Race w success rate (pw): 0.093\n",
      "Race w Variance (pw): 0.084\n",
      "Race w Confidence Interval: 0.087 - 0.0985\n"
     ]
    }
   ],
   "source": [
    "from sklearn.utils import resample\n",
    "from scipy.stats import binom\n",
    "\n",
    "wCallLst = data.call[data.race=='w']\n",
    "wSample = resample(wCallLst, n_samples = 10000)\n",
    "\n",
    "n=len(wSample)\n",
    "p = sum(wSample)/len(wSample)\n",
    "z=1.95 # 95% confidence interval\n",
    "\n",
    "print(\"Race w Sample Size: %d\"%(n))\n",
    "print(\"Race w success rate (pw): %0.3f\" %(p))\n",
    "print(\"Race w Variance (pw): %0.3f\" %(p*(1-p)))\n",
    "CI = (p-z*np.sqrt(p*(1-p)/n) , p+z*np.sqrt(p*(1-p)/n))\n",
    "print(\"Race w Confidence Interval: %0.3f - %0.3g\"%(CI[0], CI[1]))\n"
   ]
  },
  {
   "cell_type": "code",
   "execution_count": 11,
   "metadata": {
    "hideCode": false,
    "hidePrompt": false
   },
   "outputs": [
    {
     "name": "stdout",
     "output_type": "stream",
     "text": [
      "Race w Sample Size: 10000\n",
      "Race w success rate (pw): 0.066\n",
      "Race w Variance (pw): 0.061\n",
      "Race w Confidence Interval: 0.061 - 0.0706\n"
     ]
    }
   ],
   "source": [
    "wCallLst = data.call[data.race=='b']\n",
    "wSample = resample(wCallLst, n_samples = 10000)\n",
    "\n",
    "n=len(wSample)\n",
    "p = sum(wSample)/len(wSample)\n",
    "z=1.95 # 95% confidence interval\n",
    "\n",
    "print(\"Race w Sample Size: %d\"%(n))\n",
    "print(\"Race w success rate (pw): %0.3f\" %(p))\n",
    "print(\"Race w Variance (pw): %0.3f\" %(p*(1-p)))\n",
    "CI = (p-z*np.sqrt(p*(1-p)/n) , p+z*np.sqrt(p*(1-p)/n))\n",
    "print(\"Race w Confidence Interval: %0.3f - %0.3g\"%(CI[0], CI[1]))\n"
   ]
  },
  {
   "cell_type": "markdown",
   "metadata": {
    "hideCode": false,
    "hidePrompt": false
   },
   "source": [
    "### 4. Write a story describing the statistical significance in the context or the original problem.\n",
    "\n",
    "The original problem is to propose that racial discrimination impacts the chance of interviews by employers. This argument which is not new raised topic is relatively serious long-term discussion. I believe that this argumented topic does not only exist in one company or country and every single one of us in the workforce does face this circumstance. Since we are already aware this topic long enough, but do we get a very precise answer from anywhere to verify whether racial discrimination really impacts the outcome of job hunting among different races people. As my point of view, I think that there might be another factors related to this topic. As we observe the dataset for this experiment, we could be aware that every single one of employee / person possesses a set skills or personal identities features (e.g. sex / address etc). With the concern of racial discrimination grows, I would propose to carry out more experiments to discover more how the other features may correlate to different races. For example, what would be the proportion of group of people with advanced educational level etc. By doing more this type of anyalysis, we might be able to find out more behind this.\n",
    "\n",
    "Based on this experiment, we might learn some insights on how the interview success rate differ from each other. Although the two groups of sampling are assigned based on their context of names, we assume that the race assignments are accurate enough for this experiment. So that we are able to conclude that there is a significant difference between 2 groups of people regardless how accurate of the instances being classified."
   ]
  },
  {
   "cell_type": "markdown",
   "metadata": {
    "hideCode": false,
    "hidePrompt": false
   },
   "source": [
    "### 5. Does your analysis mean that race/name is the most important factor in callback success? Why or why not? If not, how would you amend your analysis?\n",
    "\n",
    "The original experimental hyoptheses was sussessfully discover how the race associated with the name context impact on the sccess rate of interview callback. However, there is still NO substantial evidence to conclude that race/name is the most important factor affect the callback success. The race/name factor might be one of the factor impact on the callback rate, but we should look for more other factors that might be correlated to the callback rate. According to this particular dataset, we could see some of the features in the dataset which sounds related to the outcome of interview callback, e.g. year of experience, computer skills or sex etc. Based on these leads, we might attempt to try to discover the correlation between these features and then carry out more statistical analysis to test on how the features impact on the callback rate differently."
   ]
  },
  {
   "cell_type": "code",
   "execution_count": 9,
   "metadata": {
    "hideCode": false,
    "hidePrompt": false
   },
   "outputs": [
    {
     "data": {
      "text/plain": [
       "Index(['id', 'ad', 'education', 'ofjobs', 'yearsexp', 'honors', 'volunteer',\n",
       "       'military', 'empholes', 'occupspecific', 'occupbroad', 'workinschool',\n",
       "       'email', 'computerskills', 'specialskills', 'firstname', 'sex', 'race',\n",
       "       'h', 'l', 'call', 'city', 'kind', 'adid', 'fracblack', 'fracwhite',\n",
       "       'lmedhhinc', 'fracdropout', 'fraccolp', 'linc', 'col', 'expminreq',\n",
       "       'schoolreq', 'eoe', 'parent_sales', 'parent_emp', 'branch_sales',\n",
       "       'branch_emp', 'fed', 'fracblack_empzip', 'fracwhite_empzip',\n",
       "       'lmedhhinc_empzip', 'fracdropout_empzip', 'fraccolp_empzip',\n",
       "       'linc_empzip', 'manager', 'supervisor', 'secretary', 'offsupport',\n",
       "       'salesrep', 'retailsales', 'req', 'expreq', 'comreq', 'educreq',\n",
       "       'compreq', 'orgreq', 'manuf', 'transcom', 'bankreal', 'trade',\n",
       "       'busservice', 'othservice', 'missind', 'ownership'],\n",
       "      dtype='object')"
      ]
     },
     "execution_count": 9,
     "metadata": {},
     "output_type": "execute_result"
    }
   ],
   "source": [
    "data.columns"
   ]
  },
  {
   "cell_type": "code",
   "execution_count": null,
   "metadata": {},
   "outputs": [],
   "source": []
  }
 ],
 "metadata": {
  "hide_code_all_hidden": false,
  "kernelspec": {
   "display_name": "Python 3",
   "language": "python",
   "name": "python3"
  },
  "language_info": {
   "codemirror_mode": {
    "name": "ipython",
    "version": 3
   },
   "file_extension": ".py",
   "mimetype": "text/x-python",
   "name": "python",
   "nbconvert_exporter": "python",
   "pygments_lexer": "ipython3",
   "version": "3.6.4"
  }
 },
 "nbformat": 4,
 "nbformat_minor": 1
}
